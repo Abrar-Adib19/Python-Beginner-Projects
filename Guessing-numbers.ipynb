{
  "nbformat": 4,
  "nbformat_minor": 0,
  "metadata": {
    "colab": {
      "provenance": []
    },
    "kernelspec": {
      "name": "python3",
      "display_name": "Python 3"
    },
    "language_info": {
      "name": "python"
    }
  },
  "cells": [
    {
      "cell_type": "code",
      "execution_count": 5,
      "metadata": {
        "id": "hH6v44rVvoDE"
      },
      "outputs": [],
      "source": [
        "import random"
      ]
    },
    {
      "cell_type": "code",
      "source": [
        "# I guess computers number"
      ],
      "metadata": {
        "id": "7AOsCO7w0poq"
      },
      "execution_count": 7,
      "outputs": []
    },
    {
      "cell_type": "code",
      "source": [
        "def guess(x):\n",
        "\n",
        "    rn = random.randint(1,x)\n",
        "    guess = 0\n",
        "    while guess != rn:\n",
        "        guess = int(input(f'Guess a number between 1 and {x}: '))\n",
        "\n",
        "        if guess < rn :\n",
        "            print(\"too low\")\n",
        "        elif guess > rn :\n",
        "            print(\"too high\")\n",
        "\n",
        "    print(\"Congratulations\")\n",
        "\n",
        "guess(10)"
      ],
      "metadata": {
        "id": "ccj61XK60tAN"
      },
      "execution_count": null,
      "outputs": []
    },
    {
      "cell_type": "code",
      "source": [
        "# Computer guesses my number"
      ],
      "metadata": {
        "id": "9Snyn7ci03Gl"
      },
      "execution_count": 8,
      "outputs": []
    },
    {
      "cell_type": "code",
      "source": [
        "def comp_guess(x):\n",
        "    low = 1\n",
        "    high = x\n",
        "    feedback = ''             # ei variable ta amar theke feedback nibe comp je num ta guess korse oitar\n",
        "\n",
        "    while feedback != 'c' :            # 'c' for correct\n",
        "        if low != high :\n",
        "            guess = random.randint(low, high)\n",
        "        else :\n",
        "            guess = high         # can also be low\n",
        "        feedback = input(f'Is {guess} too high (h), too low (l) or correct (c)??')\n",
        "\n",
        "        if feedback == 'h' :\n",
        "            high = guess-1\n",
        "        elif feedback == 'l' :\n",
        "            low = guess+1\n",
        "    print('Congratulations')\n",
        "\n",
        "comp_guess(100)"
      ],
      "metadata": {
        "id": "jhtaN0vM05Ip"
      },
      "execution_count": null,
      "outputs": []
    }
  ]
}