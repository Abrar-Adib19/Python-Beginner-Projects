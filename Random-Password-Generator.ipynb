{
  "nbformat": 4,
  "nbformat_minor": 0,
  "metadata": {
    "colab": {
      "provenance": []
    },
    "kernelspec": {
      "name": "python3",
      "display_name": "Python 3"
    },
    "language_info": {
      "name": "python"
    }
  },
  "cells": [
    {
      "cell_type": "code",
      "execution_count": 7,
      "metadata": {
        "id": "Kx87xVWx1hSu"
      },
      "outputs": [],
      "source": [
        "import random"
      ]
    },
    {
      "cell_type": "code",
      "source": [
        "password = \"QWETYUIOPLKJHGFDSAZXCVBNMqwertyuiooplkjhgfddsazxcvbnm1234567890~`/_-[{}]\"\n",
        "length_password = int(input(\"Enter the length of the password :\"))\n",
        "a = \"\".join(random.sample(password, length_password))\n",
        "print(f\"your password is {a}\")"
      ],
      "metadata": {
        "colab": {
          "base_uri": "https://localhost:8080/"
        },
        "id": "LCD1695k6Rhu",
        "outputId": "bbe8aab0-fb84-401d-9bff-3d0e9cacd286"
      },
      "execution_count": 10,
      "outputs": [
        {
          "output_type": "stream",
          "name": "stdout",
          "text": [
            "Enter the length of the password :15\n",
            "your password is a7EpbYBl0JFPh_T\n"
          ]
        }
      ]
    }
  ]
}