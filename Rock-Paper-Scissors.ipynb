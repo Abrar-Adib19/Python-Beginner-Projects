{
  "nbformat": 4,
  "nbformat_minor": 0,
  "metadata": {
    "colab": {
      "provenance": []
    },
    "kernelspec": {
      "name": "python3",
      "display_name": "Python 3"
    },
    "language_info": {
      "name": "python"
    }
  },
  "cells": [
    {
      "cell_type": "code",
      "execution_count": 1,
      "metadata": {
        "id": "Kx87xVWx1hSu"
      },
      "outputs": [],
      "source": [
        "import random"
      ]
    },
    {
      "cell_type": "code",
      "source": [
        "def play():\n",
        "\n",
        "    user = input(\"Your choice? 'r' for rock, 'p' for papers, 's' for scissors\\n\")\n",
        "    user = user.lower()\n",
        "    computer = random.choice[('r', 'p', 's')]\n",
        "\n",
        "    if user == computer:\n",
        "        return 'Its a tie'\n",
        "\n",
        "    if win(user,computer) :\n",
        "        return 'You won'\n",
        "\n",
        "    return 'You lost'\n",
        "\n",
        "\n",
        "def win(player,opponent):\n",
        "\n",
        "# paper beats rock, scissors beat paper, rock beats scissors\n",
        "\n",
        "    if (player == 'p' and opponent == 'r') or (player == 's' and opponent == 'p') or (player == 'r' and opponent == 's'):\n",
        "        return True\n",
        "    return False"
      ],
      "metadata": {
        "id": "DDq8ZUQD1ln1"
      },
      "execution_count": 2,
      "outputs": []
    }
  ]
}